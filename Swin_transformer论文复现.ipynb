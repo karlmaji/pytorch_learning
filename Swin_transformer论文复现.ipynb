{
  "nbformat": 4,
  "nbformat_minor": 0,
  "metadata": {
    "colab": {
      "name": "Swin transformer论文复现.ipynb",
      "provenance": [],
      "collapsed_sections": [],
      "authorship_tag": "ABX9TyN6tbupESZXkZaGvASpLisV",
      "include_colab_link": true
    },
    "kernelspec": {
      "name": "python3",
      "display_name": "Python 3"
    },
    "language_info": {
      "name": "python"
    }
  },
  "cells": [
    {
      "cell_type": "markdown",
      "metadata": {
        "id": "view-in-github",
        "colab_type": "text"
      },
      "source": [
        "<a href=\"https://colab.research.google.com/github/karlmaji/pytorch_learning/blob/master/Swin_transformer%E8%AE%BA%E6%96%87%E5%A4%8D%E7%8E%B0.ipynb\" target=\"_parent\"><img src=\"https://colab.research.google.com/assets/colab-badge.svg\" alt=\"Open In Colab\"/></a>"
      ]
    },
    {
      "cell_type": "code",
      "execution_count": 1,
      "metadata": {
        "colab": {
          "base_uri": "https://localhost:8080/"
        },
        "id": "v9iYAO_A3WIC",
        "outputId": "67cefee1-605c-4a49-bf54-5e41789f42c5"
      },
      "outputs": [
        {
          "output_type": "stream",
          "name": "stdout",
          "text": [
            "Mounted at /content/drive/\n"
          ]
        }
      ],
      "source": [
        "from google.colab import drive\n",
        "\n",
        "drive.mount('/content/drive/')"
      ]
    },
    {
      "cell_type": "code",
      "source": [
        "import torch\n",
        "import torch.nn as nn\n",
        "import torch.nn.functional as F"
      ],
      "metadata": {
        "id": "tS5_ye7l4C-q"
      },
      "execution_count": 4,
      "outputs": []
    },
    {
      "cell_type": "markdown",
      "source": [
        "# 难点1 img to patch"
      ],
      "metadata": {
        "id": "HHHnn1jE37cN"
      }
    },
    {
      "cell_type": "code",
      "source": [
        "# patch_depth = patchsize *patchsize *input_channel\n",
        "# patch_depth= 12\n",
        "# model_dim = 8\n",
        "# weight = torch.randn(12,8)\n",
        "\n",
        "\n",
        "# 方法1：使用unfold 方法\n",
        "def img2patch(img,patchsize,weight):\n",
        "  patch = F.unfold(img,kernel_size=patchsize,\n",
        "                   stride=patchsize).transpose(-1,-2) \n",
        "                   #[bs,patch_num,patch_depth]\n",
        "\n",
        "  patch_embedding = patch @ weight #weight.shape:[patch_depth,model_dim]\n",
        "\n",
        "  # print(patch_embedding.shape) #[bs,num_patch,model_dim]\n",
        "  \n",
        "  return patch_embedding\n",
        "\n",
        "# 方法2:使用卷积方法\n",
        "def img2patch_conv(img,patchsize,model_dim):\n",
        "  bs,i_c,h,w =img.shape\n",
        "\n",
        "  #实际建立model时 先定义卷积层在调用\n",
        "  layer= nn.Conv2d(3,model_dim,kernel_size=patchsize,stride=patchsize)\n",
        "  #output:[bs,model_dim,h,w]\n",
        "\n",
        "  patch_embedding=layer(img).reshape(bs,model_dim,-1).transpose(-1,-2)\n",
        "  # print(patch_embedding.shape)\n",
        "\n",
        "\n",
        "# img=torch.randn(2,3,224,224)\n",
        "# img2patch(img,2,weight)\n",
        "# img2patch_conv(img,2,model_dim)\n"
      ],
      "metadata": {
        "id": "r-dYgMqS4Bx2"
      },
      "execution_count": 16,
      "outputs": []
    },
    {
      "cell_type": "code",
      "source": [
        ""
      ],
      "metadata": {
        "id": "QH15swLq8_UY"
      },
      "execution_count": null,
      "outputs": []
    },
    {
      "cell_type": "code",
      "source": [
        ""
      ],
      "metadata": {
        "id": "BfUkIYTZ34nJ"
      },
      "execution_count": null,
      "outputs": []
    }
  ]
}