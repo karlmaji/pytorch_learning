{
  "nbformat": 4,
  "nbformat_minor": 0,
  "metadata": {
    "colab": {
      "name": "MobileNetV1.ipynb",
      "provenance": [],
      "collapsed_sections": [],
      "authorship_tag": "ABX9TyNVENdVKDmyKCaCNUwk/60Y",
      "include_colab_link": true
    },
    "kernelspec": {
      "name": "python3",
      "display_name": "Python 3"
    },
    "language_info": {
      "name": "python"
    }
  },
  "cells": [
    {
      "cell_type": "markdown",
      "metadata": {
        "id": "view-in-github",
        "colab_type": "text"
      },
      "source": [
        "<a href=\"https://colab.research.google.com/github/karlmaji/pytorch_learning/blob/master/MobileNetV1.ipynb\" target=\"_parent\"><img src=\"https://colab.research.google.com/assets/colab-badge.svg\" alt=\"Open In Colab\"/></a>"
      ]
    },
    {
      "cell_type": "code",
      "execution_count": 2,
      "metadata": {
        "id": "79JvRkzelJat"
      },
      "outputs": [],
      "source": [
        "import torch\n",
        "import torch.nn as nn\n",
        "import torch.nn.functional as F\n",
        "import numpy as np\n",
        "\n",
        "def set_seed(seed):\n",
        "  torch.manual_seed(seed)\n",
        "  np.random.seed(seed)\n",
        "\n",
        "  if torch.cuda.is_available():\n",
        "    torch.cuda.manual_seed(seed)\n",
        "    torch.cuda.manual_seed_all(seed)\n",
        "\n",
        "set_seed(42)\n",
        "\n",
        "torch.backends.cudnn.determinstic = True\n",
        "torch.backends.cudnn.benchmark = False\n"
      ]
    },
    {
      "cell_type": "markdown",
      "source": [
        "![img](https://pdf.cdn.readpaper.com/parsed/fetch_target/49903af9a58081720de11b4f6a317304_3_Figure_3.png)\n",
        "\n",
        "![img](https://pdf.cdn.readpaper.com/parsed/fetch_target/49903af9a58081720de11b4f6a317304_3_Table_1.png)"
      ],
      "metadata": {
        "id": "tAPNUIZUmOYv"
      }
    },
    {
      "cell_type": "code",
      "source": [
        "def Depthwise_Separable_Conv(input_channel,output_channel,stride):\n",
        "  block = nn.Sequential(\n",
        "      nn.Conv2d(input_channel,input_channel,(3,3),stride=stride,padding=1,groups = input_channel,bias=False),\n",
        "      nn.BatchNorm2d(input_channel),\n",
        "      nn.ReLU(inplace =True),\n",
        "      nn.Conv2d(input_channel,output_channel,(1,1),stride=1,bias=False),\n",
        "      nn.BatchNorm2d(output_channel),\n",
        "      nn.ReLU(inplace=True)\n",
        "  )\n",
        "  return block\n",
        "\n",
        "class MobileNetV1(nn.Module):\n",
        "  def __init__(self,input_channel=3,num_class=1000):\n",
        "    super(MobileNetV1,self).__init__()\n",
        "    self.Conv1_bn_relu = nn.Sequential(\n",
        "        nn.Conv2d(input_channel,32,(3,3),stride=2,padding=1,bias=False),\n",
        "        nn.BatchNorm2d(32),\n",
        "        nn.ReLU(inplace=True)\n",
        "    )\n",
        "    self.Conv_to_Conv = nn.Sequential(\n",
        "        Depthwise_Separable_Conv(32,64,1),\n",
        "        Depthwise_Separable_Conv(64,128,2),\n",
        "        Depthwise_Separable_Conv(128,128,1),\n",
        "        Depthwise_Separable_Conv(128,256,2),\n",
        "        Depthwise_Separable_Conv(256,256,1),\n",
        "        Depthwise_Separable_Conv(256,512,2),\n",
        "        *[Depthwise_Separable_Conv(512,512,1) for i in range(5)],\n",
        "        Depthwise_Separable_Conv(512,1024,2),\n",
        "        Depthwise_Separable_Conv(1024,1024,1),\n",
        "    )\n",
        "\n",
        "    self.head = nn.Linear(1024,num_class)\n",
        "    self._init_weights()\n",
        "  def forward(self,x):\n",
        "    x = self.Conv1_bn_relu(x)\n",
        "    x = self.Conv_to_Conv(x)\n",
        "    x = self.head(x.mean((-1,-2)))\n",
        "    return x\n",
        "\n",
        "  def _init_weights(self):\n",
        "    for m in self.modules():\n",
        "      if isinstance(m,nn.Conv2d):\n",
        "        nn.init.kaiming_normal_(m.weight,mode='fan_out', nonlinearity='relu')\n",
        "      if isinstance(m,nn.BatchNorm2d):\n",
        "        nn.init.constant_(m.weight,1)\n",
        "        nn.init.constant_(m.bias,0)\n",
        "      if isinstance(m , nn.Linear):\n",
        "        nn.init.xavier_normal_(m.weight)\n",
        "        nn.init.constant_(m.bias,0)\n",
        "\n",
        "\n",
        "model = MobileNetV1()"
      ],
      "metadata": {
        "id": "_VafDNgkmGbT"
      },
      "execution_count": 39,
      "outputs": []
    },
    {
      "cell_type": "code",
      "source": [
        ""
      ],
      "metadata": {
        "id": "Xd5rVpwixkYu"
      },
      "execution_count": null,
      "outputs": []
    }
  ]
}